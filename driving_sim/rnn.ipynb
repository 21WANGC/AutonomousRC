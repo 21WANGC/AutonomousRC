{
 "cells": [
  {
   "cell_type": "code",
   "execution_count": 1,
   "metadata": {},
   "outputs": [],
   "source": [
    "import math\n",
    "import time\n",
    "\n",
    "import cv2\n",
    "import numpy as np\n",
    "import pandas as pd\n",
    "import pt_util\n",
    "import torch\n",
    "import torch.nn as nn\n",
    "import torch.nn.functional as F\n",
    "import torch.optim as optim\n",
    "from torchvision import datasets, transforms\n",
    "import tqdm"
   ]
  },
  {
   "cell_type": "code",
   "execution_count": 2,
   "metadata": {},
   "outputs": [],
   "source": [
    "DATA_PATH = '/home/wangc21/datasets/ARC/right_loop/'\n",
    "#DATA_PATH = '/home/wangc21/datasets/ARC/left_loop/'"
   ]
  },
  {
   "cell_type": "code",
   "execution_count": 3,
   "metadata": {},
   "outputs": [],
   "source": [
    "class ARCDataset(torch.utils.data.Dataset):\n",
    "    def __init__(self, data_path, seq_len, batch_size, transform=None):\n",
    "        super(ARCDataset, self).__init__()\n",
    "        self.seq_len = seq_len\n",
    "        self.batch_size = batch_size\n",
    "        self.transform = transform\n",
    "        \n",
    "        self.data_path = data_path\n",
    "        self.labels = pd.read_csv(self.data_path + 'labels.csv', sep=',', header=None).values.astype(np.float32)\n",
    "        #n = len(self.labels) // self.batch_size\n",
    "        #self.labels = self.labels[:n * self.batch_size]\n",
    "        \n",
    "    def __len__(self):\n",
    "        n = len(self.labels) // self.batch_size\n",
    "        return math.ceil(n / self.seq_len) * self.batch_size\n",
    "        \n",
    "    def __getitem__(self, idx):\n",
    "        #    0      1\n",
    "        # 0 [0:5]  [10:15]\n",
    "        # 1 [4:9]  [14:19]\n",
    "        # 2 [8:10] [18:20]\n",
    "        #\n",
    "        # row C {0, 1, 2}\n",
    "        # col C {0, 1}\n",
    "        # E.g., idx = 3 -> (row, col) = (1, 1) -> [14 : 19]\n",
    "        row = idx // self.batch_size\n",
    "        col = idx % self.batch_size\n",
    "\n",
    "        # Size of each chunk: we divide the dataset of length\n",
    "        # len(dataset) into batch_size chunks, so each has size:\n",
    "        chunk_size = len(self.labels) // self.batch_size\n",
    "\n",
    "        # start = row * seq + col * chunk\n",
    "        start_idx = row * self.seq_len + col * chunk_size\n",
    "\n",
    "        # If last row, add remaining elements only.\n",
    "        end_idx = start_idx\n",
    "        end_idx += min(self.seq_len, chunk_size - row * self.seq_len)\n",
    "        \n",
    "        input_list = []\n",
    "        label_list = []\n",
    "        for idx in range(start_idx, end_idx):\n",
    "\n",
    "            # process color frame, using defined augmentations\n",
    "            image = cv2.imread(self.data_path + 'images/' + str(idx) + '.jpg')\n",
    "            if self.transform:\n",
    "                image = self.transform(image)\n",
    "        \n",
    "            # process depth data, convert to tensor\n",
    "            depth = cv2.imread(self.data_path + 'depth/' + str(idx) + '.jpg', 0)\n",
    "            depth = transforms.ToTensor()(depth)\n",
    "        \n",
    "            # make input and label sequences\n",
    "            input_list.append(torch.cat((image, depth)))\n",
    "            label_list.append(self.labels[idx])\n",
    "        \n",
    "        input_tensor = torch.stack(input_list).resize_((self.seq_len, 640 * 480 * 4))\n",
    "        label_tensor = transforms.ToTensor()(np.asarray(label_list)).squeeze(0)\n",
    "        \n",
    "        return (input_tensor, label_tensor)"
   ]
  },
  {
   "cell_type": "code",
   "execution_count": 4,
   "metadata": {},
   "outputs": [
    {
     "name": "stdout",
     "output_type": "stream",
     "text": [
      "640\n",
      "160\n"
     ]
    }
   ],
   "source": [
    "BATCH_SIZE = 1\n",
    "SEQ_LEN = 5\n",
    "\n",
    "# Perform data augmentation only on color frames, but not depth data.\n",
    "train_transforms = transforms.Compose([\n",
    "    transforms.ToPILImage(),\n",
    "    transforms.ColorJitter(brightness=0.2, contrast=0.2, saturation=0.2, hue=0.2),\n",
    "    transforms.ToTensor(),\n",
    "    transforms.Normalize((0.5, 0.5, 0.5), (0.5, 0.5, 0.5)),\n",
    "    ])\n",
    "\n",
    "test_transforms = transforms.Compose([\n",
    "    transforms.ToTensor(),\n",
    "    transforms.Normalize((0.5, 0.5, 0.5), (0.5, 0.5, 0.5)),\n",
    "    ])\n",
    "\n",
    "data_train = ARCDataset(DATA_PATH + 'train/', SEQ_LEN, BATCH_SIZE, transform=train_transforms)\n",
    "print(len(data_train))\n",
    "data_test = ARCDataset(DATA_PATH + 'val/', SEQ_LEN, BATCH_SIZE, transform=test_transforms)\n",
    "print(len(data_test))"
   ]
  },
  {
   "cell_type": "code",
   "execution_count": 5,
   "metadata": {},
   "outputs": [],
   "source": [
    "'''\n",
    "input_size – The number of expected features in the input x\n",
    "\n",
    "hidden_size – The number of features in the hidden state h\n",
    "\n",
    "num_layers – Number of recurrent layers. E.g., setting num_layers=2 would mean stacking two LSTMs together to form a stacked LSTM, with the second LSTM taking in outputs of the first LSTM and computing the final results. Default: 1\n",
    "\n",
    "bias – If False, then the layer does not use bias weights b_ih and b_hh. Default: True\n",
    "\n",
    "batch_first – If True, then the input and output tensors are provided as (batch, seq, feature). Default: False\n",
    "\n",
    "dropout – If non-zero, introduces a Dropout layer on the outputs of each LSTM layer except the last layer, with dropout probability equal to dropout. Default: 0\n",
    "\n",
    "bidirectional – If True, becomes a bidirectional LSTM. Default: False\n",
    "'''\n",
    "\n",
    "class LSTM(nn.Module):\n",
    "    def __init__(self):\n",
    "        super(LSTM, self).__init__()\n",
    "        self.lstm = nn.LSTM(\n",
    "            input_size = 640 * 480 * 4,\n",
    "            hidden_size = 32,\n",
    "            batch_first = True,\n",
    "        )\n",
    "        self.fc_1 = nn.Linear(32, 1)\n",
    "        self.fc_2 = nn.Linear(32, 1)\n",
    "        \n",
    "        self.lowest_error = float(\"inf\")\n",
    "    \n",
    "    # x is (batch_size, seq_len, (input_size))\n",
    "    def forward(self, x, hidden_state = None):\n",
    "        x, hidden_state = self.lstm(x, hidden_state)\n",
    "        throttle = self.fc_1(x)\n",
    "        angle = self.fc_2(x)\n",
    "        return torch.cat((throttle, angle), 2), hidden_state\n",
    "\n",
    "    def loss(self, prediction, label, reduction='mean'):\n",
    "        loss = F.mse_loss(prediction, label, reduction = reduction)\n",
    "        return loss\n",
    "    \n",
    "    def save_model(self, file_path, num_to_keep=1):\n",
    "        pt_util.save(self, file_path, num_to_keep)\n",
    "        \n",
    "    def save_best_model(self, error, file_path, num_to_keep=1):\n",
    "        if error < self.lowest_error:\n",
    "          self.lowest_error = error\n",
    "          pt_util.save(self, file_path, num_to_keep)\n",
    "\n",
    "    def load_model(self, file_path):\n",
    "        pt_util.restore(self, file_path)\n",
    "\n",
    "    def load_last_model(self, dir_path):\n",
    "        return pt_util.restore_latest(self, dir_path)"
   ]
  },
  {
   "cell_type": "code",
   "execution_count": 6,
   "metadata": {},
   "outputs": [],
   "source": [
    "def repackage_hidden(h):\n",
    "    \"\"\"Wraps hidden states in new Tensors, to detach them from their history.\"\"\"\n",
    "    if isinstance(h, torch.Tensor):\n",
    "        return h.detach()\n",
    "    else:\n",
    "        return tuple(repackage_hidden(v) for v in h)   \n",
    "    \n",
    "def train(model, device, optimizer, train_loader, lr, epoch, log_interval):\n",
    "    model.train()\n",
    "    losses = []\n",
    "    hidden = None\n",
    "    for batch_idx, (data, label) in enumerate(tqdm.tqdm(train_loader)):\n",
    "        data, label = data.to(device), label.to(device)\n",
    "        # Separates the hidden state across batches. \n",
    "        # Otherwise the backward would try to go all the way to the beginning every time.\n",
    "        if hidden is not None:\n",
    "            hidden = repackage_hidden(hidden)\n",
    "        optimizer.zero_grad()\n",
    "        output, hidden = model(data)\n",
    "        loss = model.loss(output, label)\n",
    "        losses.append(loss.item())\n",
    "        loss.backward()\n",
    "        optimizer.step()\n",
    "        if batch_idx % log_interval == 0:\n",
    "            print('Train Epoch: {} [{}/{} ({:.0f}%)]\\tLoss: {:.6f}'.format(\n",
    "                epoch, batch_idx * len(data), len(train_loader.dataset),\n",
    "                100. * batch_idx / len(train_loader), loss.item()))\n",
    "    return np.mean(losses)\n",
    "\n",
    "def test(model, device, test_loader):\n",
    "    model.eval()\n",
    "    test_loss = 0\n",
    "\n",
    "    with torch.no_grad():\n",
    "        hidden = None\n",
    "        for batch_idx, (data, label) in enumerate(test_loader):    \n",
    "            data, label = data.to(device), label.to(device)\n",
    "            output, hidden = model(data, hidden)\n",
    "            test_loss += model.loss(output, label, reduction='mean').item()\n",
    "\n",
    "    test_loss /= len(test_loader)\n",
    "    print('\\nTest set: Average loss: \\n' + str(test_loss))\n",
    "    return test_loss"
   ]
  },
  {
   "cell_type": "code",
   "execution_count": null,
   "metadata": {},
   "outputs": [
    {
     "name": "stdout",
     "output_type": "stream",
     "text": [
      "Using device cuda\n",
      "num cpus: 16\n"
     ]
    },
    {
     "name": "stderr",
     "output_type": "stream",
     "text": [
      "  0%|          | 0/640 [00:00<?, ?it/s]"
     ]
    },
    {
     "name": "stdout",
     "output_type": "stream",
     "text": [
      "\n",
      "Test set: Average loss: \n",
      "0.3288214520551264\n"
     ]
    },
    {
     "name": "stderr",
     "output_type": "stream",
     "text": [
      "  0%|          | 1/640 [00:01<12:19,  1.16s/it]"
     ]
    },
    {
     "name": "stdout",
     "output_type": "stream",
     "text": [
      "Train Epoch: 0 [0/640 (0%)]\tLoss: 0.110229\n"
     ]
    },
    {
     "name": "stderr",
     "output_type": "stream",
     "text": [
      " 16%|█▋        | 104/640 [00:07<00:31, 17.02it/s]"
     ]
    },
    {
     "name": "stdout",
     "output_type": "stream",
     "text": [
      "Train Epoch: 0 [100/640 (16%)]\tLoss: 0.004641\n"
     ]
    },
    {
     "name": "stderr",
     "output_type": "stream",
     "text": [
      " 32%|███▏      | 204/640 [00:12<00:24, 17.58it/s]"
     ]
    },
    {
     "name": "stdout",
     "output_type": "stream",
     "text": [
      "Train Epoch: 0 [200/640 (31%)]\tLoss: 0.001058\n"
     ]
    },
    {
     "name": "stderr",
     "output_type": "stream",
     "text": [
      " 48%|████▊     | 304/640 [00:18<00:18, 18.13it/s]"
     ]
    },
    {
     "name": "stdout",
     "output_type": "stream",
     "text": [
      "Train Epoch: 0 [300/640 (47%)]\tLoss: 0.031528\n"
     ]
    },
    {
     "name": "stderr",
     "output_type": "stream",
     "text": [
      " 63%|██████▎   | 404/640 [00:23<00:13, 18.12it/s]"
     ]
    },
    {
     "name": "stdout",
     "output_type": "stream",
     "text": [
      "Train Epoch: 0 [400/640 (62%)]\tLoss: 0.112170\n"
     ]
    },
    {
     "name": "stderr",
     "output_type": "stream",
     "text": [
      " 79%|███████▉  | 504/640 [00:29<00:07, 18.59it/s]"
     ]
    },
    {
     "name": "stdout",
     "output_type": "stream",
     "text": [
      "Train Epoch: 0 [500/640 (78%)]\tLoss: 0.018499\n"
     ]
    },
    {
     "name": "stderr",
     "output_type": "stream",
     "text": [
      " 94%|█████████▍| 604/640 [00:35<00:02, 17.29it/s]"
     ]
    },
    {
     "name": "stdout",
     "output_type": "stream",
     "text": [
      "Train Epoch: 0 [600/640 (94%)]\tLoss: 0.072982\n"
     ]
    },
    {
     "name": "stderr",
     "output_type": "stream",
     "text": [
      "100%|██████████| 640/640 [00:37<00:00, 16.70it/s]\n"
     ]
    },
    {
     "name": "stdout",
     "output_type": "stream",
     "text": [
      "\n",
      "Test set: Average loss: \n",
      "0.039601105274050495\n"
     ]
    },
    {
     "name": "stderr",
     "output_type": "stream",
     "text": [
      "  0%|          | 0/640 [00:00<?, ?it/s]"
     ]
    },
    {
     "name": "stdout",
     "output_type": "stream",
     "text": [
      "Saved /home/wangc21/datasets/ARC/right_loop/checkpoints/000.pt\n",
      "\n"
     ]
    },
    {
     "name": "stderr",
     "output_type": "stream",
     "text": [
      "  0%|          | 2/640 [00:01<08:17,  1.28it/s]"
     ]
    },
    {
     "name": "stdout",
     "output_type": "stream",
     "text": [
      "Train Epoch: 1 [0/640 (0%)]\tLoss: 0.144369\n"
     ]
    },
    {
     "name": "stderr",
     "output_type": "stream",
     "text": [
      " 16%|█▋        | 104/640 [00:07<00:28, 18.57it/s]"
     ]
    },
    {
     "name": "stdout",
     "output_type": "stream",
     "text": [
      "Train Epoch: 1 [100/640 (16%)]\tLoss: 0.019772\n"
     ]
    },
    {
     "name": "stderr",
     "output_type": "stream",
     "text": [
      " 32%|███▏      | 204/640 [00:12<00:23, 18.75it/s]"
     ]
    },
    {
     "name": "stdout",
     "output_type": "stream",
     "text": [
      "Train Epoch: 1 [200/640 (31%)]\tLoss: 0.012482\n"
     ]
    },
    {
     "name": "stderr",
     "output_type": "stream",
     "text": [
      " 48%|████▊     | 304/640 [00:17<00:19, 17.06it/s]"
     ]
    },
    {
     "name": "stdout",
     "output_type": "stream",
     "text": [
      "Train Epoch: 1 [300/640 (47%)]\tLoss: 0.002123\n"
     ]
    },
    {
     "name": "stderr",
     "output_type": "stream",
     "text": [
      " 63%|██████▎   | 404/640 [00:23<00:12, 18.23it/s]"
     ]
    },
    {
     "name": "stdout",
     "output_type": "stream",
     "text": [
      "Train Epoch: 1 [400/640 (62%)]\tLoss: 0.003487\n"
     ]
    },
    {
     "name": "stderr",
     "output_type": "stream",
     "text": [
      " 79%|███████▉  | 504/640 [00:29<00:07, 18.27it/s]"
     ]
    },
    {
     "name": "stdout",
     "output_type": "stream",
     "text": [
      "Train Epoch: 1 [500/640 (78%)]\tLoss: 0.005412\n"
     ]
    },
    {
     "name": "stderr",
     "output_type": "stream",
     "text": [
      " 94%|█████████▍| 604/640 [00:34<00:01, 18.73it/s]"
     ]
    },
    {
     "name": "stdout",
     "output_type": "stream",
     "text": [
      "Train Epoch: 1 [600/640 (94%)]\tLoss: 0.032803\n"
     ]
    },
    {
     "name": "stderr",
     "output_type": "stream",
     "text": [
      "100%|██████████| 640/640 [00:36<00:00, 18.78it/s]\n"
     ]
    },
    {
     "name": "stdout",
     "output_type": "stream",
     "text": [
      "\n",
      "Test set: Average loss: \n",
      "0.03715618684909714\n"
     ]
    },
    {
     "name": "stderr",
     "output_type": "stream",
     "text": [
      "  0%|          | 0/640 [00:00<?, ?it/s]"
     ]
    },
    {
     "name": "stdout",
     "output_type": "stream",
     "text": [
      "Saved /home/wangc21/datasets/ARC/right_loop/checkpoints/001.pt\n",
      "\n"
     ]
    },
    {
     "name": "stderr",
     "output_type": "stream",
     "text": [
      "  0%|          | 1/640 [00:01<11:18,  1.06s/it]"
     ]
    },
    {
     "name": "stdout",
     "output_type": "stream",
     "text": [
      "Train Epoch: 2 [0/640 (0%)]\tLoss: 0.139299\n"
     ]
    },
    {
     "name": "stderr",
     "output_type": "stream",
     "text": [
      " 16%|█▋        | 104/640 [00:06<00:28, 18.76it/s]"
     ]
    },
    {
     "name": "stdout",
     "output_type": "stream",
     "text": [
      "Train Epoch: 2 [100/640 (16%)]\tLoss: 0.012805\n"
     ]
    },
    {
     "name": "stderr",
     "output_type": "stream",
     "text": [
      " 32%|███▏      | 204/640 [00:12<00:23, 18.70it/s]"
     ]
    },
    {
     "name": "stdout",
     "output_type": "stream",
     "text": [
      "Train Epoch: 2 [200/640 (31%)]\tLoss: 0.005026\n"
     ]
    },
    {
     "name": "stderr",
     "output_type": "stream",
     "text": [
      " 39%|███▉      | 250/640 [00:14<00:20, 18.75it/s]"
     ]
    }
   ],
   "source": [
    "EPOCHS = 100\n",
    "LEARNING_RATE = 0.001\n",
    "MOMENTUM = 0.9\n",
    "USE_CUDA = True\n",
    "SEED = 0\n",
    "PRINT_INTERVAL = 100\n",
    "WEIGHT_DECAY = 0.0005\n",
    "LOG_PATH = DATA_PATH + 'log.pkl'\n",
    "\n",
    "use_cuda = USE_CUDA and torch.cuda.is_available()\n",
    "\n",
    "#torch.manual_seed(SEED)\n",
    "\n",
    "device = torch.device(\"cuda\" if use_cuda else \"cpu\")\n",
    "print('Using device', device)\n",
    "import multiprocessing\n",
    "print('num cpus:', multiprocessing.cpu_count())\n",
    "\n",
    "kwargs = {'num_workers': multiprocessing.cpu_count(),\n",
    "          'pin_memory': True} if use_cuda else {}\n",
    "\n",
    "train_loader = torch.utils.data.DataLoader(data_train, batch_size=BATCH_SIZE,\n",
    "                                           shuffle=False, **kwargs)\n",
    "test_loader = torch.utils.data.DataLoader(data_test, batch_size=BATCH_SIZE,\n",
    "                                          shuffle=False, **kwargs)\n",
    "\n",
    "model = LSTM().to(device)\n",
    "#optimizer = optim.SGD(model.parameters(), lr=LEARNING_RATE, momentum=MOMENTUM, weight_decay=WEIGHT_DECAY)\n",
    "optimizer = optim.Adam(model.parameters(), lr=LEARNING_RATE, weight_decay=WEIGHT_DECAY)\n",
    "#start_epoch = model.load_last_model(DATA_PATH + 'checkpoints')\n",
    "start_epoch = 0\n",
    "\n",
    "train_losses, test_losses = pt_util.read_log(LOG_PATH, ([], []))\n",
    "test_loss = test(model, device, test_loader)\n",
    "test_losses.append((start_epoch, test_loss))\n",
    "\n",
    "try:\n",
    "    for epoch in range(start_epoch, EPOCHS + 1):\n",
    "        train_loss = train(model, device, optimizer, train_loader, LEARNING_RATE, epoch, PRINT_INTERVAL) \n",
    "        test_loss = test(model, device, test_loader)\n",
    "        train_losses.append((epoch, train_loss))\n",
    "        test_losses.append((epoch, test_loss))\n",
    "        pt_util.write_log(LOG_PATH, (train_losses, test_losses))\n",
    "        model.save_best_model(test_loss, DATA_PATH + 'checkpoints/%03d.pt' % epoch)\n",
    "\n",
    "\n",
    "except KeyboardInterrupt as ke:\n",
    "    print('Interrupted')\n",
    "except:\n",
    "    import traceback\n",
    "    traceback.print_exc()\n",
    "finally:\n",
    "    model.save_model(DATA_PATH + 'checkpoints/%03d.pt' % epoch, 0)\n",
    "    ep, val = zip(*train_losses)\n",
    "    pt_util.plot(ep, val, 'Train loss', 'Epoch', 'Error')\n",
    "    ep, val = zip(*test_losses)\n",
    "    pt_util.plot(ep, val, 'Test loss', 'Epoch', 'Error')"
   ]
  }
 ],
 "metadata": {
  "kernelspec": {
   "display_name": "Python 3",
   "language": "python",
   "name": "python3"
  },
  "language_info": {
   "codemirror_mode": {
    "name": "ipython",
    "version": 3
   },
   "file_extension": ".py",
   "mimetype": "text/x-python",
   "name": "python",
   "nbconvert_exporter": "python",
   "pygments_lexer": "ipython3",
   "version": "3.7.3"
  }
 },
 "nbformat": 4,
 "nbformat_minor": 4
}
